{
  "nbformat": 4,
  "nbformat_minor": 0,
  "metadata": {
    "colab": {
      "provenance": []
    },
    "kernelspec": {
      "name": "python3",
      "display_name": "Python 3"
    }
  },
  "cells": [
    {
      "cell_type": "markdown",
      "metadata": {
        "id": "hVbXYX-RfPWh"
      },
      "source": [
        "# Algoritmos de optimización - Seminario<br>\n",
        "Nombre y Apellidos: Borja Allo Casal   <br>\n",
        "Url: https://github.com/zetaholic/SEMINARIO <br>\n",
        "(el enlace lleva al repositorio, donde estará la entrega de la primera convocatoria y esta: \"Poyecto_Algoritmos_C2_Borja_Allo\")<br>\n",
        "\n",
        "Problema:\n",
        "\n",
        ">3. Combinar cifras y operaciones\n",
        "\n",
        "Descripción del problema:<br>\n",
        "El problema consiste en analizar el siguiente problema y diseñar un algoritmo que lo resuelva:<br>\n",
        "• Disponemos de las 9 cifras del 1 al 9 (excluimos el cero) y de los 4 signos básicos de las operaciones fundamentales: suma(+), resta(-), multiplicación(*) y división(/).<br>\n",
        "• Debemos combinarlos alternativamente sin repetir ninguno de ellos para obtener una\n",
        "cantidad dada. Un ejemplo sería para obtener el 4:<br>\n",
        "\n",
        "\"4 + 2 - 6 / 3 * 1 = 4\"\n",
        "\n",
        "....\n",
        "\n",
        "(*) La respuesta es obligatoria\n",
        "\n",
        "\n",
        "\n",
        "---\n",
        "\n",
        "\n",
        "\n",
        "                                        "
      ]
    },
    {
      "cell_type": "code",
      "source": [
        "# Importaciones y librerías a emplear\n",
        "\n",
        "import math\n",
        "import itertools\n",
        "import random\n",
        "import time\n",
        "from fractions import Fraction"
      ],
      "metadata": {
        "id": "COgW5Zu4_Zvl"
      },
      "execution_count": null,
      "outputs": []
    },
    {
      "cell_type": "markdown",
      "metadata": {
        "id": "3_-exlrTgLd-"
      },
      "source": [
        "\n",
        "\n",
        "---\n",
        "\n",
        "\n",
        "###(*)¿Cuantas posibilidades hay sin tener en cuenta las restricciones?<br>\n",
        "\n",
        "\n",
        "###¿Cuantas posibilidades hay teniendo en cuenta todas las restricciones?\n",
        "\n",
        "\n"
      ]
    },
    {
      "cell_type": "markdown",
      "metadata": {
        "id": "WfCUqJyKhPcw"
      },
      "source": [
        "**Pregunta obligatoria:**<br>\n",
        "Sin restricciones, se permiten repetir dígitos y operadores libremente. <br>\n",
        "Pero vamos a considerar la estructura del ejemplo tipo:\n",
        "- $ d | o | d | o | d | o | d | o | d$\n",
        "\n",
        "Siendo:\n",
        "- d = dígito\n",
        "- o = operador\n",
        "\n",
        "5 posiciones para cada dígito (siendo estos del 1 al 9): $9^5$ <br>\n",
        "4 posiciones para los operadores (siendo 4): $4^4$ <br>\n",
        "\n",
        "- Posibilidades totales: $9^5 . 4^4 = 15116544$\n",
        "\n",
        "<br>\n",
        "\n",
        "**Pregunta opcional:**<br>\n",
        "\n",
        "Al tener en cuenta las restricciones:<br>\n",
        "\n",
        "* Dígitos: 5 distintos importando el orden.<br>\n",
        "   * Permutaciones $P(9,5)= 9.8.7.6.5$\n",
        "\n",
        "* Operadores: usar cada uno una sola vez.\n",
        "   * $4! = 24$\n",
        "<br>\n",
        "\n",
        "Total de posibilidades: $ P(9,5) . 4! = 362880$"
      ]
    },
    {
      "cell_type": "code",
      "metadata": {
        "id": "iq6Fe32MgpDX",
        "colab": {
          "base_uri": "https://localhost:8080/"
        },
        "outputId": "cef42c30-843d-49f7-abd3-bb165ec4ba60"
      },
      "source": [
        "# Respuesta a la pregunta obligatoria\n",
        "\n",
        "cifras_totales = 9 ** 5 # 5 posiciones por dígito entre 1 y 9\n",
        "operadores_totales = 4 ** 4 # 4 posiciones para 4 operadores (no importa el orden)\n",
        "posibilidades = cifras_totales * operadores_totales\n",
        "\n",
        "print(f\"Total de expresiones sin restricciones: {cifras_totales} x {operadores_totales} = {posibilidades}\")\n"
      ],
      "execution_count": null,
      "outputs": [
        {
          "output_type": "stream",
          "name": "stdout",
          "text": [
            "Total de expresiones sin restricciones: 59049 x 256 = 15116544\n"
          ]
        }
      ]
    },
    {
      "cell_type": "code",
      "source": [
        "# Respuesta a la pregunta opcional\n",
        "\n",
        "combinatoria_cifras = math.perm(9, 5) # Permutaciones P(9,5)\n",
        "permutaciones_operadores = math.factorial(4)\n",
        "\n",
        "# Total de posibilidades\n",
        "total_posibilidades = combinatoria_cifras * permutaciones_operadores\n",
        "\n",
        "print(f\"Número total de expresiones posibles cumpliendo restricciones: {total_posibilidades}\")\n"
      ],
      "metadata": {
        "id": "EANnGMJVco0M",
        "outputId": "87b086ba-df09-4d92-97f9-530578c56620",
        "colab": {
          "base_uri": "https://localhost:8080/"
        }
      },
      "execution_count": null,
      "outputs": [
        {
          "output_type": "stream",
          "name": "stdout",
          "text": [
            "Número total de expresiones posibles cumpliendo restricciones: 362880\n"
          ]
        }
      ]
    },
    {
      "cell_type": "markdown",
      "metadata": {
        "id": "dzynfVJahHoY"
      },
      "source": [
        "\n",
        "\n",
        "---\n",
        "\n",
        "\n",
        "###Modelo para el espacio de soluciones<br>\n",
        "###(*) ¿Cual es la estructura de datos que mejor se adapta al problema? Arguméntalo.(Es posible que hayas elegido una al principio y veas la necesidad de cambiar, arguméntalo)\n"
      ]
    },
    {
      "cell_type": "markdown",
      "metadata": {
        "id": "xFIJrOwKi2Ti"
      },
      "source": [
        "**Pregunta obligatoria:**<br>\n",
        "\n",
        "La estructura de datos que mejor se adapta al problema es el árbol binario de expresiones, ya que permite representar de forma natural la alternancia entre operadores y dígitos, respetar la jerarquía de operaciones y aplicar técnicas de backtracking y poda sobre un espacio de búsqueda. Aunque inicialmente se podría pensar en una lista por su simplicidad, al avanzar en el diseño se ve que el árbol ofrece una mayor flexibilidad y eficiencia para generar y evaluar expresiones en este problema.\n",
        "<br>\n",
        "\n",
        "Una expresión aritmética se representa muy bien como un árbol binario:\n",
        "\n",
        "* los dígitos en las hojas\n",
        "\n",
        "* los operadores en los nodos internos\n",
        "\n",
        "Ventajas:\n",
        "\n",
        "* Respeta de forma natural la jerarquía de operaciones\n",
        "\n",
        "* Permite aplicar backtracking o recorrido recursivo para evaluar\n",
        "\n",
        "* Facilita la poda de ramas no prometedoras"
      ]
    },
    {
      "cell_type": "code",
      "metadata": {
        "id": "38c-7-ejhJmA",
        "colab": {
          "base_uri": "https://localhost:8080/"
        },
        "outputId": "a0ba7bc6-20eb-4359-9497-4542dd9aed53"
      },
      "source": [
        "# PARA EL EJEMPLO DEL ENUNCIADO\n",
        "\n",
        "# Definimos una clase para los nodos del árbol de expresión\n",
        "class Nodo:\n",
        "    def __init__(self, valor, izq=None, der=None):\n",
        "        self.valor = valor   # operador o dígito\n",
        "        self.izq = izq       # subárbol izquierdo\n",
        "        self.der = der       # subárbol derecho\n",
        "\n",
        "# Construimos el árbol para la expresión: 4+2-6/3*1\n",
        "# Nota: Python sigue precedencia: * y / antes que + y -\n",
        "# Así que realmente es: ( (4+2) - ( (6/3) * 1 ) )\n",
        "\n",
        "arbol = Nodo('-',\n",
        "             Nodo('+',\n",
        "                  Nodo('4'),\n",
        "                  Nodo('2')),\n",
        "             Nodo('*',\n",
        "                  Nodo('/',\n",
        "                       Nodo('6'),\n",
        "                       Nodo('3')),\n",
        "                  Nodo('1'))\n",
        "            )\n",
        "\n",
        "# Función para imprimir el árbol en notación prefija (operador primero)\n",
        "def imprimir_prefijo(nodo):\n",
        "    if nodo is None:\n",
        "        return \"\"\n",
        "    return f\"{nodo.valor} {imprimir_prefijo(nodo.izq)} {imprimir_prefijo(nodo.der)}\"\n",
        "\n",
        "# Función para imprimir en notación infija (forma \"humana\", la nuestra)\n",
        "def imprimir_infijo(nodo):\n",
        "    if nodo.izq is None and nodo.der is None:\n",
        "        return nodo.valor\n",
        "    return f\"({imprimir_infijo(nodo.izq)} {nodo.valor} {imprimir_infijo(nodo.der)})\"\n",
        "\n",
        "print(\"Forma prefija:\", imprimir_prefijo(arbol))\n",
        "print(\"Forma infija:\", imprimir_infijo(arbol))\n",
        "\n"
      ],
      "execution_count": null,
      "outputs": [
        {
          "output_type": "stream",
          "name": "stdout",
          "text": [
            "Forma prefija: - + 4   2   * / 6   3   1  \n",
            "Forma infija: ((4 + 2) - ((6 / 3) * 1))\n"
          ]
        }
      ]
    },
    {
      "cell_type": "markdown",
      "metadata": {
        "id": "7Z9U2W7bi-XS"
      },
      "source": [
        "\n",
        "\n",
        "---\n",
        "\n",
        "\n",
        "###Según el modelo para el espacio de soluciones<br>\n",
        "###(*)¿Cual es la función objetivo?\n",
        "\n",
        "###(*)¿Es un problema de maximización o minimización?"
      ]
    },
    {
      "cell_type": "markdown",
      "source": [
        "**Pregunta obligatoria:**<br>\n",
        "\n",
        "####La función objetivo:\n",
        "\n",
        "En el problema, cada expresión generada (con dígitos y operadores) se puede evaluar y produce un resultado numérico.\n",
        "\n",
        "La *función objetivo* consiste en medir cómo de cerca está ese resultado de una cantidad objetivo dada (un “número objetivo”, como el ejemplo del enunciado).\n",
        "\n",
        "Si:\n",
        "\n",
        "- $E$ es una expresión,  \n",
        "- $f(E)$ es el valor numérico de esa expresión,  \n",
        "- $K$ es el valor objetivo,\n",
        "\n",
        "entonces la función objetivo puede definirse como:\n",
        "\n",
        "$$\n",
        "F(E) = |f(E) - K|\n",
        "$$\n",
        "\n",
        "Es decir, la **distancia absoluta** entre el valor de la expresión y el valor buscado.\n",
        "\n",
        "<br>\n",
        "\n",
        "\n",
        "**Pregunta obligatoria:**<br>\n",
        "\n",
        "####¿Maximización o minimización?\n",
        "\n",
        "Es un **problema de minimización**, ya que lo que buscamos es reducir al mínimo la diferencia entre el resultado de la expresión y el valor objetivo $K$.\n",
        "\n",
        "Si encontramos una expresión exacta, es decir:\n",
        "\n",
        "$$\n",
        "f(E) = K\n",
        "$$\n",
        "\n",
        "entonces la función objetivo se convierte en:\n",
        "\n",
        "$$\n",
        "F(E) = |f(E) - K| = 0\n",
        "$$\n",
        "\n",
        "lo cual representa el **valor mínimo posible**.\n",
        "\n",
        "<br>\n",
        "\n",
        "En caso de que no exista una solución exacta, lo que buscaríamos sería la *mejor aproximación*, es decir, aquella expresión cuya evaluación produzca el **menor error** posible.\n",
        "\n",
        "Pero, una vez resuelto el problema completo, se observa que entre los valores mínimo (-69) y máximo (77), se consiguen **todos** los valores enteros disponibles en ese rango.\n"
      ],
      "metadata": {
        "id": "EifYO52yF9ld"
      }
    },
    {
      "cell_type": "code",
      "metadata": {
        "id": "pDA-rg3Gj5Lz",
        "colab": {
          "base_uri": "https://localhost:8080/"
        },
        "outputId": "a6b94193-6a61-4bf5-fcac-b940de83cc5f"
      },
      "source": [
        "# Voy a generar un ejemplo con una muestra aleatoria\n",
        "digitos = [str(i) for i in range(1, 10)] # Todas las crifras del 1 al 9\n",
        "operadores = ['+', '-', '*', '/']\n",
        "\n",
        "resultados_enteros = set()\n",
        "muestras = 10000  # Para el ejemplo vamos a utilizar 10000 muestras. Pero lo dejo con opción de subir o bajar el número de muestras para pruebas\n",
        "\n",
        "def evaluar(expr):\n",
        "    try:\n",
        "        resultado = eval(expr) # Uso eval(), pero aplicando el filtro siguiente\n",
        "        if resultado == int(resultado):  # Solo enteros\n",
        "            return int(resultado)\n",
        "    except ZeroDivisionError: # Divisiones entre 0. A priori no debería hacer falta. No hay posibilidades de divisiones entre 0; pero por si acaso hay algún error\n",
        "        return None\n",
        "    return None\n",
        "\n",
        "for _ in range(muestras): # Genero las entradas aleatorias\n",
        "    cifras = random.sample(digitos, 5)\n",
        "    ops = random.sample(operadores, 4)\n",
        "    expr = \"\"\n",
        "    for i in range(4): # Inicio bucle para ir construyendo la expresión generada en un string\n",
        "        expr += cifras[i] + ops[i]\n",
        "    expr += cifras[4]\n",
        "    resultado = evaluar(expr) # Uso la función creada (que es como una modificación del \"eval()\", pero incluye la \"criba\" de las divisiones entre 0)\n",
        "    if resultado is not None:\n",
        "        resultados_enteros.add(resultado) # Voy añadiendo los resultados enteros\n",
        "\n",
        "# Análisis de resultados\n",
        "minimo = min(resultados_enteros)\n",
        "maximo = max(resultados_enteros)\n",
        "faltantes = [i for i in range(minimo, maximo + 1) if i not in resultados_enteros] # Compruebo los faltantes entre el mín. y el máx.\n",
        "\n",
        "print(f\"Valores enteros encontrados: {len(resultados_enteros)}\")\n",
        "print(f\"Valor mínimo: {minimo}\")\n",
        "print(f\"Valor máximo: {maximo}\")\n",
        "print(f\"¿Todos los enteros entre mínimo y máximo están presentes?: {len(faltantes) == 0}\")\n",
        "if faltantes:\n",
        "    print(f\"Valores faltantes: {faltantes[:10]}{'...' if len(faltantes) > 10 else ''}\")\n"
      ],
      "execution_count": null,
      "outputs": [
        {
          "output_type": "stream",
          "name": "stdout",
          "text": [
            "Valores enteros encontrados: 139\n",
            "Valor mínimo: -66\n",
            "Valor máximo: 76\n",
            "¿Todos los enteros entre mínimo y máximo están presentes?: False\n",
            "Valores faltantes: [-65, -60, -54, -53]\n"
          ]
        }
      ]
    },
    {
      "cell_type": "markdown",
      "source": [
        "En este ejemplo con una muestra aleatoria no se consiguen todos los valores enteros en el rango del mínimo al máximo hallado. Pero, evaluando todas las expresiones posibles, sí se consiguen."
      ],
      "metadata": {
        "id": "UzmCmTAzKuyF"
      }
    },
    {
      "cell_type": "markdown",
      "metadata": {
        "id": "rlnTYgY1j6I2"
      },
      "source": [
        "\n",
        "\n",
        "---\n",
        "\n",
        "\n",
        "###Diseña un algoritmo para resolver el problema por fuerza bruta"
      ]
    },
    {
      "cell_type": "markdown",
      "metadata": {
        "id": "70rDgxYXkC8r"
      },
      "source": [
        "**Pregunta opcional:**<br>\n",
        "\n",
        "Diseñar un algoritmo por fuerza bruta supone explorar y evaluar **todas** las expresiones posibles (dentro de las restricciones) y almacenar aquellas que sean válidas (que cumplan el requisito de ser un número entero).<br>\n",
        "Sería como llevar el ejemplo con muestras limitadas que hice antes, pero evaluando todas las opciones existentes.<br>\n",
        "Pasos que he intentado seguir:\n",
        "\n",
        "1.   Generar todas las combinaciones posibles de 5 cifras (escogiendo números entre el 1 y el 9).\n",
        "2.   Para cada combinación de las cifras: generar todas las permutaciones u ordenaciones posibles de ellos (orden de aparición en la expresión).\n",
        "3.   Para cada ordenación de cifras, generar todas las permutaciones u ordenaciones posibles de los 4 operadores disponibles.\n",
        "4.   Construir la expresión final: con la estructura \"cifra 1, operador 1, cifra 2, operador 2,..., operador 4, cifra 5\".\n",
        "5.   Evaluar la expresión: sin divisiones entre 0 y que sean enteros.\n",
        "6.   Guardar los resultados que cumplan.\n",
        "\n",
        "Por fuerza bruta se considerarán todas las expresiones, pero la ejecución del código es muy exigente."
      ]
    },
    {
      "cell_type": "code",
      "metadata": {
        "id": "CJb5sQ0qkENy",
        "colab": {
          "base_uri": "https://localhost:8080/"
        },
        "outputId": "7ef2a3eb-49a9-4892-8b99-f938e91a83ab"
      },
      "source": [
        "# Diseño por FUERZA BRUTA\n",
        "\n",
        "digitos = [str(i) for i in range(1, 10)]\n",
        "operadores = ['+', '-', '*', '/']\n",
        "\n",
        "expresiones_validas = [] # Voy a guardar todas las expresiones generadas que den un número entero\n",
        "r_enteros = [] # Voy a guardar todos los enteros generados\n",
        "\n",
        "def evaluar(expr): # Igual que hice en el ejemplo con muestra aleatoria\n",
        "    try:\n",
        "        resultado = eval(expr)\n",
        "        if resultado == int(resultado):\n",
        "            return int(resultado)\n",
        "    except ZeroDivisionError:\n",
        "        return None\n",
        "    return None\n",
        "\n",
        "# Todas las combinaciones posibles\n",
        "for cifras in itertools.combinations(digitos, 5): # Combinatoria \"9 sobre 5\"\n",
        "    for perm_cifras in itertools.permutations(cifras): # Permutaciones de las cifras anteriores\n",
        "        for perm_ops in itertools.permutations(operadores): # Permutaciones de los operadores\n",
        "            expr = \"\" # Donde almacenaré la expresión dentro del bucle\n",
        "            for i in range(4):\n",
        "                expr += perm_cifras[i] + perm_ops[i]\n",
        "            expr += perm_cifras[4]\n",
        "            resultado = evaluar(expr)\n",
        "            if resultado is not None:\n",
        "                expresiones_validas.append((expr, resultado)) # Mantengo expresión y resultado asociados\n",
        "                r_enteros.append(resultado) # Me vale para calcular después el máximo y el mínimo\n",
        "\n",
        "\n",
        "print(f\"Total de expresiones válidas: {len(expresiones_validas)}\") # Muestra todas las expresiones que den números enteros que se hayan generado\n",
        "print(f\"Valor mínimo: {min(r_enteros)}\")\n",
        "print(f\"Valor máximo: {max(r_enteros)}\")\n",
        "print(f\"Número de enteros distintos: {len(list(set(r_enteros)))}\")\n",
        "print(\"Ejemplos:\")\n",
        "for expr, res in expresiones_validas[9:20]: # Para enseñar algunos de los resultados válidos obtenidos, escojo una muestra entre la pos. 9 y la 19\n",
        "    print(f\"{expr} = {res}\")"
      ],
      "execution_count": null,
      "outputs": [
        {
          "output_type": "stream",
          "name": "stdout",
          "text": [
            "Total de expresiones válidas: 90000\n",
            "Valor mínimo: -69\n",
            "Valor máximo: 77\n",
            "Número de enteros distintos: 147\n",
            "Ejemplos:\n",
            "1-3*4/2+5 = 0\n",
            "1*3+4/2-5 = 0\n",
            "1*3-4/2+5 = 6\n",
            "1+3-4*5/2 = -6\n",
            "1-3+4*5/2 = 8\n",
            "1+3-5/2*4 = -6\n",
            "1-3+5/2*4 = 8\n",
            "1+3-5*4/2 = -6\n",
            "1+3*5-4/2 = 14\n",
            "1-3+5*4/2 = 8\n",
            "1-3*5+4/2 = -12\n"
          ]
        }
      ]
    },
    {
      "cell_type": "markdown",
      "source": [
        "Del algoritmo por fuerza bruta podemos considerar como verdaderos los resultados obtenidos:\n",
        "* Expresiones válidas, es decir, que den lugar a un entero: 90000 (aunque hay expresiones que dan el mismo entero).\n",
        "* Valor máximo hallado: -69\n",
        "* Valor mínimo hallado: 77\n",
        "* Nº de enteros distintos: 147\n",
        "<br>\n",
        "\n",
        "Si el menor es $-69$, el mayor es $77$ y tenemos $147$ valores distintos; entonces podemos deducir que se pueden conseguir todos los valores enteros intermedios entre el máximo y el mínimo."
      ],
      "metadata": {
        "id": "0mIQn3kNMhaB"
      }
    },
    {
      "cell_type": "markdown",
      "metadata": {
        "id": "tgrnsC2nkFa8"
      },
      "source": [
        "\n",
        "\n",
        "---\n",
        "\n",
        "\n",
        "###Calcula la complejidad del algoritmo por fuerza bruta"
      ]
    },
    {
      "cell_type": "markdown",
      "source": [
        "**Pregunta opcional:**\n",
        "\n",
        "La complejidad del algoritmo varía en función de lo que se entienda por el tamaño de entrada $n$. Aunque, siempre que se utilice el mismo criterio, se puede utilizar de forma generalizada para comparar los algoritmos.\n",
        "\n",
        "### Opción 1: $n$ es el número de dígitos disponible\n",
        "\n",
        "Es decir, tenemos los $4$ operadores del enunciado, y hay que escoger $5$ dígitos de los $n$ disponibles.\n",
        "\n",
        "### Conteo de operaciones elementales:\n",
        "\n",
        "La complejidad del algoritmo se deriva del número de veces que se ejecutan los bucles anidados.  \n",
        "Cada uno de estos bucles se basa en funciones de `itertools`.\n",
        "\n",
        "#### Bucle `itertools.combinations(digitos, 5)`\n",
        "\n",
        "Este bucle genera todas las combinaciones posibles de 5 dígitos a partir de un conjunto de $n$ dígitos.\n",
        "\n",
        "El número de combinaciones es:\n",
        "\n",
        "$$\n",
        "\\binom{n}{5} = \\frac{n!}{5!(n-5)!}\n",
        "$$\n",
        "\n",
        "Para valores grandes de $n$, el término dominante de esta expresión es $n^5$.  \n",
        "Por lo tanto, esta operación tiene una complejidad de **$O(n^5)$**.\n",
        "\n",
        "\n",
        "#### Bucle `itertools.permutations(cifras)`\n",
        "\n",
        "Este bucle genera las permutaciones de 5 elementos.\n",
        "\n",
        "El número de permutaciones de 5 elementos es:\n",
        "\n",
        "$$\n",
        "5! = 120\n",
        "$$\n",
        "\n",
        "Este es un valor constante, no depende de $n$.  \n",
        "Este bucle se ejecuta una vez por cada combinación del bucle exterior, es decir, $\\binom{n}{5}$ veces.\n",
        "\n",
        "\n",
        "#### Bucle `itertools.permutations(operadores)`\n",
        "\n",
        "Similar al anterior, este bucle genera las permutaciones de 4 operadores.\n",
        "\n",
        "El número de permutaciones de 4 operadores es:\n",
        "\n",
        "$$\n",
        "4! = 24\n",
        "$$\n",
        "\n",
        "También una constante.  \n",
        "Este bucle se ejecuta $\\binom{n}{5} \\times 5!$ veces.\n",
        "\n",
        "\n",
        "#### Bucle interno `for i in range(4)`\n",
        "\n",
        "Este bucle se ejecuta un número fijo de veces (4).\n",
        "\n",
        "El número total de iteraciones de este bucle es:\n",
        "\n",
        "$$\n",
        "\\binom{n}{5} \\times 5! \\times 4!\n",
        "$$\n",
        "\n",
        "\n",
        "#### Función `evaluar(expr)`\n",
        "\n",
        "Esta función se llama en la iteración más interna.  \n",
        "El tiempo de ejecución de `eval()` depende de la longitud de la expresión,  \n",
        "pero dado que la expresión siempre tiene 9 caracteres (5 dígitos y 4 operadores),  \n",
        "el tiempo de ejecución es constante: **$O(1)$**.\n",
        "\n",
        "\n",
        "### Simplificación a Notación Big O\n",
        "\n",
        "Para determinar la complejidad total, nos enfocamos en el término que crece más rápido a medida que $n$ aumenta.  \n",
        "En este caso, el número total de operaciones está dominado por el primer bucle anidado, cuya complejidad es **$O(n^5)$**.\n",
        "\n",
        "El número de operaciones es proporcional a:\n",
        "\n",
        "$$\n",
        "\\binom{n}{5} = \\frac{n(n-1)(n-2)(n-3)(n-4)}{120}\n",
        "$$\n",
        "\n",
        "Al ignorar las constantes y los términos de menor orden, la complejidad asintótica se simplifica a:\n",
        "\n",
        "$$\n",
        "\\boxed{O(n^5)}\n",
        "$$\n",
        "\n",
        "\n",
        "### Conclusión\n",
        "\n",
        "La complejidad del algoritmo, asumiendo que el número de dígitos $n$ puede variar, es **$O(n^5)$**.\n",
        "\n",
        "\n",
        "\n"
      ],
      "metadata": {
        "id": "iFQnBr5QbxCe"
      }
    },
    {
      "cell_type": "markdown",
      "source": [
        "### Opción 2: la variable de entrada $n$ es el número de operadores\n",
        "\n",
        "El conjunto de dígitos disponibles es fijo (del 1 al 9). Pero como el número de dígitos a escoger sería $n+1$, si el número $n$ de operadores fuese mayor que 8, no podríamos fijar los valores a escoger del 1 al 9.\n",
        "\n",
        "El algoritmo explora **todas las combinaciones posibles sin optimizaciones**.  \n",
        "El cálculo de su complejidad se basa en el **producto del número de opciones en cada etapa**.\n",
        "\n",
        "#### Paso 1: Permutación de los dígitos\n",
        "\n",
        "La expresión debe tener $n + 1$ dígitos.  \n",
        "Estos dígitos, de los cuales se eligen, a priori está limitado a 9.\n",
        "El número de formas de **elegir y ordenar** $n + 1$ dígitos es el número de permutaciones sin repetición:\n",
        "\n",
        "$$\n",
        " \\frac{9!}{(9 - (n + 1))!} = \\frac{9!}{(8 - n)!}\n",
        "$$\n",
        "\n",
        "Esta función **crece de forma factorial**.\n",
        "\n",
        "#### Paso 2: Combinación con repetición de los operadores\n",
        "\n",
        "La expresión debe tener $n$ operadores.  \n",
        "Como no se pueden repetir, deben elegirse de un conjunto de, al menos, $n$ operadores únicos: para el caso más simple, si el conjunto tiene $n$ elementos, el número de permutaciones es ${n!}$.\n",
        "\n",
        "**Crece de forma factorial**.\n",
        "\n",
        "#### Conclusión\n",
        "\n",
        "Ambos factores tienen un crecimiento factorial. Por lo tanto, podemos decir que su complejidad es:\n",
        "\n",
        "$$\n",
        "\\boxed{O(n!)}\n",
        "$$\n"
      ],
      "metadata": {
        "id": "ymPcQPQpPizu"
      }
    },
    {
      "cell_type": "markdown",
      "metadata": {
        "id": "txbrmLmskReM"
      },
      "source": [
        "\n",
        "\n",
        "---\n",
        "\n",
        "\n",
        "\n",
        "###(*)Diseña un algoritmo que mejore la complejidad del algoritmo por fuerza bruta. Argumenta porque crees que mejora el algoritmo por fuerza bruta"
      ]
    },
    {
      "cell_type": "markdown",
      "metadata": {
        "id": "hLrVwt5QkZPD"
      },
      "source": [
        "**Pregunta obligatoria:**<br>\n",
        "\n",
        "Una mejora al algoritmo de fuerza bruta es aplicar la técnica de vuelta atrás (backtracking) con poda.<br>\n",
        "El algoritmo construye la expresión paso a paso (dígitos y operadores), evaluando parcialmente en cada etapa. Si detecta que el valor parcial ya no puede conducir a una solución válida (por ejemplo, supera el rango máximo o mínimo posible), descarta esa rama y evita seguir generando expresiones inútiles (expresiones que ya ni siquiera se evaluarán ni tendrán en cuenta, ejecutando menos operaciones)."
      ]
    },
    {
      "cell_type": "code",
      "metadata": {
        "id": "m1eyM21Vkabg",
        "colab": {
          "base_uri": "https://localhost:8080/"
        },
        "outputId": "fe1f14c8-d16e-4b06-b84e-055138599ac8"
      },
      "source": [
        "# ALGORITMO BACKTRACKING CON PODA\n",
        "\n",
        "def backtracking_con_poda_conmut():\n",
        "    digitos = [str(i) for i in range(1, 10)]\n",
        "    operadores = ['+', '-', '*', '/']\n",
        "\n",
        "    expresiones_validas = []\n",
        "    enteros_alcanzados = set()\n",
        "\n",
        "    comprobaciones = 0   # parciales + finales\n",
        "    ramas_podadas = 0\n",
        "\n",
        "    def es_entero(frac):\n",
        "        return frac.denominator == 1\n",
        "\n",
        "    def backtrack(expr, usados_digitos, usados_operadores, esperando_operador, ultimo_valor=None, ultimo_dig=None):\n",
        "        nonlocal comprobaciones, ramas_podadas\n",
        "\n",
        "        # Caso base: todos los dígitos y operadores usados\n",
        "        if len(usados_digitos) == 5 and len(usados_operadores) == 4:\n",
        "            comprobaciones += 1\n",
        "            try:\n",
        "                val = eval(expr)\n",
        "                if val == int(val):\n",
        "                    entero = int(val)\n",
        "                    enteros_alcanzados.add(entero)\n",
        "                    expresiones_validas.append((expr, entero))\n",
        "            except ZeroDivisionError:\n",
        "                return\n",
        "            return\n",
        "\n",
        "        if esperando_operador:\n",
        "            for op in operadores:\n",
        "                if op in usados_operadores:\n",
        "                    continue\n",
        "                backtrack(expr + op, usados_digitos, usados_operadores | {op}, False, ultimo_valor, ultimo_dig)\n",
        "\n",
        "        else:\n",
        "            for d in digitos:\n",
        "                if d in usados_digitos:\n",
        "                    continue\n",
        "\n",
        "                # Poda 1: evitar simetrías en + y *\n",
        "                if expr and expr[-1] in ['+', '*'] and ultimo_dig is not None:\n",
        "                    if int(d) < int(ultimo_dig):\n",
        "                        ramas_podadas += 1\n",
        "                        continue\n",
        "\n",
        "                nueva_expr = expr + d\n",
        "                try:\n",
        "                    comprobaciones += 1  # cada eval parcial\n",
        "                    val = eval(nueva_expr)\n",
        "\n",
        "                    # Poda 2: valor demasiado grande\n",
        "                    if abs(val) > 10000:\n",
        "                        ramas_podadas += 1\n",
        "                        continue\n",
        "                    # Poda 3: división no entera ya cerrada\n",
        "                    frac = Fraction(val).limit_denominator()\n",
        "                    if '/' in nueva_expr and not es_entero(frac):\n",
        "                        ramas_podadas += 1\n",
        "                        continue\n",
        "                except ZeroDivisionError:\n",
        "                    ramas_podadas += 1\n",
        "                    continue\n",
        "\n",
        "                backtrack(nueva_expr, usados_digitos | {d}, usados_operadores, True, val, d)\n",
        "\n",
        "    start = time.time()\n",
        "    backtrack(\"\", set(), set(), False)\n",
        "    tiempo = time.time() - start\n",
        "\n",
        "    # Resultados\n",
        "    if enteros_alcanzados:\n",
        "        minimo = min(enteros_alcanzados)\n",
        "        maximo = max(enteros_alcanzados)\n",
        "    else:\n",
        "        minimo, maximo = None, None\n",
        "\n",
        "    print(\"=== BACKTRACKING CON PODA ===\")\n",
        "    print(f\"Tiempo: {tiempo:.2f} s\")\n",
        "    print(f\"Valor mínimo: {minimo}\")\n",
        "    print(f\"Valor máximo: {maximo}\")\n",
        "    print(f\"Enteros distintos: {len(enteros_alcanzados)}\")\n",
        "    print(f\"Expresiones válidas: {len(expresiones_validas)}\")\n",
        "    print(f\"Comprobaciones totales (parciales+finales): {comprobaciones}\")\n",
        "    print(f\"Ramas podadas: {ramas_podadas}\")\n",
        "\n",
        "    return {\n",
        "        \"minimo\": minimo,\n",
        "        \"maximo\": maximo,\n",
        "        \"enteros\": enteros_alcanzados,\n",
        "        \"expresiones_validas\": expresiones_validas,\n",
        "        \"comprobaciones\": comprobaciones,\n",
        "        \"ramas_podadas\": ramas_podadas,\n",
        "        \"tiempo\": tiempo\n",
        "    }\n",
        "\n",
        "\n",
        "# Ejecutación\n",
        "if __name__ == \"__main__\":\n",
        "    backtracking_con_poda_conmut()\n"
      ],
      "execution_count": null,
      "outputs": [
        {
          "output_type": "stream",
          "name": "stdout",
          "text": [
            "=== BACKTRACKING CON PODA ===\n",
            "Tiempo: 0.81 s\n",
            "Valor mínimo: -69\n",
            "Valor máximo: 77\n",
            "Enteros distintos: 147\n",
            "Expresiones válidas: 25570\n",
            "Comprobaciones totales (parciales+finales): 82228\n",
            "Ramas podadas: 35753\n"
          ]
        }
      ]
    },
    {
      "cell_type": "markdown",
      "source": [
        "El diseño final del algoritmo es el que está justo encima. Dejo lo que he tenido en cuenta a continuación:\n",
        "<br>\n",
        "\n",
        "1. Construcción paso a paso (Backtracking)\n",
        "\n",
        "* Fuerza bruta: genera todas las permutaciones de 5 dígitos y 4 operadores (362.880 expresiones completas).\n",
        "\n",
        "* Backtracking: construye la expresión parcialmente y en cada paso decide si continuar o cortar la rama.\n",
        "Esto evita llegar a expresiones completas que ya sabemos que no servirán.\n",
        "\n",
        "2. Poda por magnitud\n",
        "\n",
        "* Si un valor intermedio es demasiado grande (ej. >10.000 en valor absoluto), se corta la rama.\n",
        "\n",
        "* En fuerza bruta, esa rama se exploraría completa, desperdiciando evaluaciones.\n",
        "\n",
        "3. Poda por divisiones\n",
        "\n",
        "* División entre cero: la rama se descarta inmediatamente.\n",
        "\n",
        "* Divisiones no enteras cerradas, es decir, si un valor parcial ya no puede ser entero, no tiene sentido seguir expandiendo la rama.\n",
        "* En fuerza bruta, estas expresiones se generarían enteras para luego descartarse al final.\n",
        "\n",
        "4. Poda por conmutatividad\n",
        "\n",
        "* El caso es que \"a + b\" y \"b + a\" producen el mismo valor, igual que \"a x b\" y \"b x a\".\n",
        "\n",
        "* Imponemos un orden en el algoritmo (por ejemplo, siempre menor primero en \"+\" y \"*\") para no repetir expresiones equivalentes.\n",
        "\n",
        "* En fuerza bruta, se calculan ambas, duplicando trabajo innecesario.\n",
        "\n",
        "5. Evaluación anticipada (comprobaciones parciales)\n",
        "\n",
        "* Se van evaluando las expresiones parciales para decidir si continuar. Esto aumenta el número de comprobaciones (más evaluaciones intermedias), pero reduce drásticamente el número de ramas completas exploradas.\n",
        "* En fuerza bruta, solo se evalúa la expresión al final, por lo que explora mucho más."
      ],
      "metadata": {
        "id": "-EaBKdDCTQT8"
      }
    },
    {
      "cell_type": "markdown",
      "metadata": {
        "id": "eGDB4K6uk1iN"
      },
      "source": [
        "\n",
        "\n",
        "---\n",
        "\n",
        "\n",
        "###(*)Calcula la complejidad del algoritmo"
      ]
    },
    {
      "cell_type": "markdown",
      "source": [
        "**Pregunta obligatoria:**\n",
        "\n",
        "Como hemos hecho con el algoritmo de fuerza bruta, la complejidad también varía en función de lo que entendamos por la variable $n$ de entrada.\n",
        "\n",
        "### Opción 1: dígitos a escoger entre un conjunto de 1 a $n$\n",
        "\n",
        "El análisis de este algoritmo de **backtracking** es más complejo que el de fuerza bruta.  \n",
        "Su complejidad no se puede expresar con una fórmula simple porque depende de la estructura del árbol de búsqueda y, además, de la efectividad de las **podas**.\n",
        "\n",
        "\n",
        "#### Estructura del Árbol de Búsqueda\n",
        "\n",
        "El algoritmo construye expresiones alternando entre un dígito y un operador.  \n",
        "La profundidad del árbol de búsqueda es fija: **5 niveles para los dígitos** y **4 para los operadores**.\n",
        "\n",
        "- **Nivel 1 (dígito)**: Puedes elegir entre $n$ dígitos → $n$ ramas posibles  \n",
        "- **Nivel 2 (operador)**: Puedes elegir entre 4 operadores → 4 ramas por cada rama anterior  \n",
        "- **Nivel 3 (dígito)**: Puedes elegir entre los $n - 1$ dígitos restantes  \n",
        "- **Nivel 4 (operador)**: Puedes elegir entre los 3 operadores restantes  \n",
        "- ... y así sucesivamente hasta completar la expresión\n",
        "\n",
        "Sin las podas, el número de nodos en este árbol de búsqueda sería enorme,  \n",
        "creciendo de forma **exponencial** con $n$.\n",
        "\n",
        "La complejidad teórica sin optimizaciones es:\n",
        "\n",
        "$$\n",
        "O(k^n)\n",
        "$$\n",
        "\n",
        "donde $k$ es el **factor de ramificación**, es decir, el número de opciones en cada paso.\n",
        "\n",
        "\n",
        "#### Impacto de las Podas\n",
        "\n",
        "Las podas son lo que vuelve eficiente este algoritmo.  \n",
        "Estas condiciones detienen la exploración de una rama tan pronto como se determina que no puede llevar a una solución válida, reduciendo drásticamente el número de operaciones.\n",
        "\n",
        "#### Poda de expresiones conmutativas:\n",
        "Evita explorar ramas que son permutaciones de expresiones con operadores conmutativos (por ejemplo, $a + b$ vs $b + a$).  \n",
        "Esto reduce el espacio de búsqueda por un **factor constante**.\n",
        "\n",
        "#### Poda por valor\n",
        "```python\n",
        "if abs(val) > 10000:\n",
        "```\n",
        "Si el valor parcial es demasiado grande, la rama se corta. Poda que evita la exploración de subárboles completos.\n",
        "\n",
        "#### Poda por división no entera\n",
        "```python\n",
        "if '/' in nueva_expr and not es_entero(frac):\n",
        "    return\n",
        "```\n",
        "Elimina las ramas que ya han generado un valor no entero.\n",
        "\n",
        "### Conclusión\n",
        "Debido a que el número de ramas podadas no es una función simple de $n$, no podemos llegar a una fórmula polinómica precisa como $O(n^5)$.\n",
        "\n",
        "La complejidad de este algoritmo de backtracking, en el peor caso, siempre es exponencial:\n",
        "$$O(k^n), k=cte$$\n",
        "\n",
        "Sin embargo, gracias a las podas, el número real de operaciones es mucho menor que en el caso teórico. El algoritmo solo explora una fracción del árbol de búsqueda total.\n",
        "\n",
        "Por eso, en la práctica, es más rápido que el algoritmo de fuerza bruta, aunque su clasificación teórica sea superior."
      ],
      "metadata": {
        "id": "Ixeo8mC6cE4-"
      }
    },
    {
      "cell_type": "markdown",
      "source": [
        "### Opción 2: $n$ operadores con $n+1$ dígitos\n",
        "\n",
        "El algoritmo construye la solución paso a paso, formando un **árbol de búsqueda**. Su complejidad, en el peor caso, corresponde al espacio de búsqueda completo, sin aplicar podas. Esta complejidad depende del número de opciones en cada etapa de construcción de la expresión.\n",
        "\n",
        "#### Paso 1: Permutaciones de los Dígitos\n",
        "\n",
        "El algoritmo debe elegir y ordenar $n+1$ dígitos. El número de formas de seleccionar y ordenar estos dígitos únicos es:\n",
        "\n",
        "$$(n+1)!$$\n",
        "\n",
        "Este término tiene un **crecimiento factorial**.\n",
        "\n",
        "#### Paso 2: Permutaciones de los Operadores\n",
        "\n",
        "Después de cada dígito, se elige un operador. La expresión requiere $n$ operadores. Asumiendo un conjunto suficientemente grande de operadores, el número de formas de ordenarlos es:\n",
        "\n",
        "$$n!$$\n",
        "\n",
        "Este término también presenta **crecimiento factorial**.\n",
        "\n",
        "#### Paso 3: Impacto de las Podas\n",
        "\n",
        "Las **podas** son fundamentales para la eficiencia del algoritmo. Permiten reducir drásticamente el número de nodos explorados en el árbol de búsqueda:\n",
        "\n",
        "- **Poda por valor**: si la expresión parcial supera el objetivo.\n",
        "- **Poda por división no entera**: evita operaciones inválidas.\n",
        "- **Poda de expresiones conmutativas**: evita expresiones equivalentes.\n",
        "\n",
        "Gracias a estas podas, el algoritmo evita recorrer ramas innecesarias, mejorando su rendimiento práctico.\n",
        "\n",
        "### Conclusión\n",
        "\n",
        "La **complejidad teórica en el peor caso** se determina por el producto de los dos términos factoriales:\n",
        "\n",
        "\n",
        "\n",
        "$$\n",
        "O((n+1)! \\times n!) \\approx O(n!)\n",
        "$$\n",
        "\n",
        "Se trata de una **complejidad factorial**\n",
        "<br>\n",
        "<br>\n",
        "\n",
        "Aunque, para la opción 2, ambos algoritmos comparten la misma clasificación teórica, **en la práctica**, el backtracking con poda es **mucho más rápido y manejable**, ya que evita explorar combinaciones irrelevantes."
      ],
      "metadata": {
        "id": "R9t7U5LNf-7M"
      }
    },
    {
      "cell_type": "markdown",
      "source": [
        "<br>\n",
        "<br>\n",
        "\n",
        "Como podemos ver, en ambas opciones, nos sale una complejidad teórica igual o peor (para el peor caso) en el del algorito de backtracking con poda.\n",
        "\n",
        "En la práctica, esto no es real, y lo comprobamos en el apartado siguiente \"Análisis comparativo de ambos algoritmos\"."
      ],
      "metadata": {
        "id": "PSvqLg-PgSIp"
      }
    },
    {
      "cell_type": "markdown",
      "source": [
        "#### ANÁLISIS COMPARATIVO DE AMBOS ALGORITMOS"
      ],
      "metadata": {
        "id": "pddh0do8VH-j"
      }
    },
    {
      "cell_type": "markdown",
      "source": [
        "Tras varios intentos tratando de llegar a los valores esperados por el profesor, deduzco que el conteo de comprobaciones que hago con mi código comparativo es distinto al que hace el profesor. O estoy entendiendo \"comprobaciones\" de otra forma.\n",
        "<br>\n",
        "\n",
        "Sea como fuere, eso me ha llevado a optimizar mucho más el algoritmo de vuelta atrás con poda (que es el que he dejado en su apartado correspondiente), y conseguir resultados mejores.<br>\n",
        "En este notebook dejaré solamente los resultados finales. Pero, a modo informativo, indicar que la reducción de las ramas exploradas fue cambiando; siendo inicialmente 45,10%; 77,88% con varios cambios y 92,95% en la versión final (a todo esto se le suma la mejora en el tiempo de ejecución, cuya diferencia podemos ver en la comparación siguiente)."
      ],
      "metadata": {
        "id": "md5GMgwNVRje"
      }
    },
    {
      "cell_type": "code",
      "source": [
        "# ANÁLISIS Y COMPARACIÓN DE AMBOS ALGORITMOS\n",
        "\n",
        "# =========================\n",
        "# FUERZA BRUTA\n",
        "# =========================\n",
        "def fuerza_bruta():\n",
        "    digitos = [str(i) for i in range(1, 10)]\n",
        "    operadores = ['+', '-', '*', '/']\n",
        "\n",
        "    expresiones_validas = []\n",
        "    enteros = set()\n",
        "    comprobaciones = 0\n",
        "\n",
        "    start = time.time()\n",
        "\n",
        "    for cifras in itertools.combinations(digitos, 5):\n",
        "        for perm_cifras in itertools.permutations(cifras):\n",
        "            for perm_ops in itertools.permutations(operadores):\n",
        "                expr = \"\"\n",
        "                for i in range(4):\n",
        "                    expr += perm_cifras[i] + perm_ops[i]\n",
        "                expr += perm_cifras[4]\n",
        "\n",
        "                comprobaciones += 1  # cada eval final es una comprobación\n",
        "                try:\n",
        "                    resultado = eval(expr)\n",
        "                    if resultado == int(resultado):\n",
        "                        expresiones_validas.append((expr, int(resultado)))\n",
        "                        enteros.add(int(resultado))\n",
        "                except ZeroDivisionError:\n",
        "                    continue\n",
        "\n",
        "    tiempo = time.time() - start\n",
        "\n",
        "    return {\n",
        "        \"expresiones_validas\": expresiones_validas,\n",
        "        \"enteros\": enteros,\n",
        "        \"tiempo\": tiempo,\n",
        "        \"nodos\": comprobaciones,  # expresiones completas exploradas\n",
        "        \"ramas_podadas\": 0,\n",
        "        \"comprobaciones\": comprobaciones,  # solo finales\n",
        "    }\n",
        "\n",
        "\n",
        "# =========================\n",
        "# BACKTRACKING CON PODA\n",
        "# =========================\n",
        "def backtracking_con_poda_conmut():\n",
        "    digitos = [str(i) for i in range(1, 10)]\n",
        "    operadores = ['+', '-', '*', '/']\n",
        "\n",
        "    expresiones_validas = []\n",
        "    enteros_alcanzados = set()\n",
        "\n",
        "    nodos_finales = 0        # expresiones completas\n",
        "    comprobaciones = 0       # parciales + finales + podadas\n",
        "    ramas_podadas = 0\n",
        "\n",
        "    def es_entero(frac):\n",
        "        return frac.denominator == 1\n",
        "\n",
        "    def backtrack(expr, usados_digitos, usados_operadores, esperando_operador, ultimo_dig=None):\n",
        "        nonlocal nodos_finales, comprobaciones, ramas_podadas\n",
        "\n",
        "        # Caso base: expresión completa\n",
        "        if len(usados_digitos) == 5 and len(usados_operadores) == 4:\n",
        "            comprobaciones += 1\n",
        "            try:\n",
        "                val = eval(expr)\n",
        "                if val == int(val):\n",
        "                    entero = int(val)\n",
        "                    enteros_alcanzados.add(entero)\n",
        "                    expresiones_validas.append((expr, entero))\n",
        "                    nodos_finales += 1\n",
        "            except ZeroDivisionError:\n",
        "                return\n",
        "            return\n",
        "\n",
        "        if esperando_operador:\n",
        "            for op in operadores:\n",
        "                if op in usados_operadores:\n",
        "                    continue\n",
        "                comprobaciones += 1  # decisión de operador\n",
        "                backtrack(expr + op, usados_digitos, usados_operadores | {op}, False, ultimo_dig)\n",
        "\n",
        "        else:\n",
        "            for d in digitos:\n",
        "                if d in usados_digitos:\n",
        "                    continue\n",
        "\n",
        "                # Poda 1: evitar simetrías en + y *\n",
        "                if expr and expr[-1] in ['+', '*'] and ultimo_dig is not None:\n",
        "                    if int(d) < int(ultimo_dig):\n",
        "                        comprobaciones += 1\n",
        "                        ramas_podadas += 1\n",
        "                        continue\n",
        "\n",
        "                nueva_expr = expr + d\n",
        "                try:\n",
        "                    comprobaciones += 1  # cada eval parcial o decisión de expandir\n",
        "                    val = eval(nueva_expr)\n",
        "\n",
        "                    # Poda 2: valor demasiado grande\n",
        "                    if abs(val) > 10000:\n",
        "                        ramas_podadas += 1\n",
        "                        continue\n",
        "                    # Poda 3: división no entera cerrada\n",
        "                    frac = Fraction(val).limit_denominator()\n",
        "                    if '/' in nueva_expr and not es_entero(frac):\n",
        "                        ramas_podadas += 1\n",
        "                        continue\n",
        "                except ZeroDivisionError:\n",
        "                    comprobaciones += 1\n",
        "                    ramas_podadas += 1\n",
        "                    continue\n",
        "\n",
        "                backtrack(nueva_expr, usados_digitos | {d}, usados_operadores, True, d)\n",
        "\n",
        "    start = time.time()\n",
        "    backtrack(\"\", set(), set(), False)\n",
        "    tiempo = time.time() - start\n",
        "\n",
        "    return {\n",
        "        \"expresiones_validas\": expresiones_validas,\n",
        "        \"enteros\": enteros_alcanzados,\n",
        "        \"tiempo\": tiempo,\n",
        "        \"nodos\": nodos_finales,        # expresiones completas\n",
        "        \"ramas_podadas\": ramas_podadas,\n",
        "        \"comprobaciones\": comprobaciones,  # todas las decisiones\n",
        "    }\n",
        "\n",
        "\n",
        "# =========================\n",
        "# COMPARACIÓN\n",
        "# =========================\n",
        "print(\"=== FUERZA BRUTA ===\")\n",
        "fb = fuerza_bruta()\n",
        "print(f\"Tiempo: {fb['tiempo']:.2f} s\")\n",
        "print(f\"Nodos explorados (finales): {fb['nodos']}\")\n",
        "print(f\"Expresiones válidas: {len(fb['expresiones_validas'])}\")\n",
        "print(f\"Enteros distintos: {len(fb['enteros'])}\")\n",
        "print(f\"Ramas podadas: {fb['ramas_podadas']}\")\n",
        "\n",
        "print(\"\\n=== BACKTRACKING CON PODA ===\")\n",
        "bt = backtracking_con_poda_conmut()\n",
        "print(f\"Tiempo: {bt['tiempo']:.2f} s\")\n",
        "print(f\"Nodos explorados (finales): {bt['nodos']}\")\n",
        "print(f\"Expresiones válidas: {len(bt['expresiones_validas'])}\")\n",
        "print(f\"Enteros distintos: {len(bt['enteros'])}\")\n",
        "print(f\"Ramas podadas: {bt['ramas_podadas']}\")\n",
        "print(f\"Comprobaciones totales (parciales+finales+podadas): {bt['comprobaciones']}\")\n",
        "\n",
        "# ANÁLISIS COMPARATIVO\n",
        "print(\"\\n=== ANÁLISIS COMPARATIVO ===\")\n",
        "reduccion_ramas = 100 * (1 - bt['nodos'] / fb['nodos'])\n",
        "incremento_comprob = 100 * (bt['comprobaciones'] / fb['comprobaciones'] - 1)\n",
        "\n",
        "print(f\"Reducción de ramas exploradas (nodos finales): {reduccion_ramas:.2f}%\")\n",
        "print(f\"Incremento de comprobaciones: {incremento_comprob:.2f}%\")\n"
      ],
      "metadata": {
        "colab": {
          "base_uri": "https://localhost:8080/"
        },
        "id": "rOHLSD8HVUq8",
        "outputId": "0d79a7a9-434e-4ddb-a8da-ed2b9bd90e04"
      },
      "execution_count": null,
      "outputs": [
        {
          "output_type": "stream",
          "name": "stdout",
          "text": [
            "=== FUERZA BRUTA ===\n",
            "Tiempo: 3.10 s\n",
            "Nodos explorados (finales): 362880\n",
            "Expresiones válidas: 90000\n",
            "Enteros distintos: 147\n",
            "Ramas podadas: 0\n",
            "\n",
            "=== BACKTRACKING CON PODA ===\n",
            "Tiempo: 0.81 s\n",
            "Nodos explorados (finales): 25570\n",
            "Expresiones válidas: 25570\n",
            "Enteros distintos: 147\n",
            "Ramas podadas: 35753\n",
            "Comprobaciones totales (parciales+finales+podadas): 112305\n",
            "\n",
            "=== ANÁLISIS COMPARATIVO ===\n",
            "Reducción de ramas exploradas (nodos finales): 92.95%\n",
            "Incremento de comprobaciones: -69.05%\n"
          ]
        }
      ]
    },
    {
      "cell_type": "markdown",
      "source": [
        "Como se me ha indicado en la corrección, lo esperado sería:\n",
        "- Reducción de ramas exploradas: 50-75%\n",
        "- Incremento de comprobaciones: 200-500% (pero que se compensa con la reducción en las exploraciones)\n",
        "\n",
        "Lo que interpreto es que:\n",
        "- O bien la poda es muy agresiva, por lo que estaría descartando demasiadas ramas y haciendo menos comprobaciones (pero no tiene sentido, ya que llega a los mismos resultados finales que el algoritmo por fuerza bruta, por lo que podemos deducir que la poda \"es buena\").\n",
        "- O bien el conteo de comprobaciones utilizado no es el esperado en un primer momento.\n",
        "- O bien lo que estoy entiendo por \"comprobaciones\" no es lo que se está entendiendo de forma general.\n",
        "\n",
        "De cualquier forma, queda analizada y verificada la mejora del algoritmo de backtracking con las podas explicadas en su apartado.<br>\n",
        "\n",
        "Además, y a pesar de que teóricamente (en el peor caso), la complejidad teórica del algoritmo de backtracking es igual o peor que el algoritmo por fuerza bruta; con esta comprobación podemos verificar que el algoritmo optimizado es mejor y más eficiente:\n",
        "\n",
        "- Llega a los mismos resultados\n",
        "- Tarda mucho menos en ejecutarse\n",
        "- Recorre muchas menos ramas, descartando aquellas que darían resultados no válidos o repetidos."
      ],
      "metadata": {
        "id": "8XtUB65sqXmw"
      }
    },
    {
      "cell_type": "markdown",
      "metadata": {
        "id": "3M6QjTsSkmYe"
      },
      "source": [
        "\n",
        "\n",
        "---\n",
        "\n",
        "\n",
        "###Según el problema (y tenga sentido), diseña un juego de datos de entrada aleatorios"
      ]
    },
    {
      "cell_type": "markdown",
      "metadata": {
        "id": "Jc3_OlyNkvjZ"
      },
      "source": [
        "No respondida"
      ]
    },
    {
      "cell_type": "markdown",
      "metadata": {
        "id": "zy5ZROmjlGo1"
      },
      "source": [
        "\n",
        "\n",
        "---\n",
        "\n",
        "\n",
        "###Aplica el algoritmo al juego de datos generado"
      ]
    },
    {
      "cell_type": "markdown",
      "metadata": {
        "id": "_Cmj-PVylMsa"
      },
      "source": [
        "No respondida"
      ]
    },
    {
      "cell_type": "markdown",
      "metadata": {
        "id": "eTFWUJQrtGcv"
      },
      "source": [
        "\n",
        "\n",
        "---\n",
        "\n",
        "\n",
        "###Enumera las referencias que has utilizado (si ha sido necesario) para llevar a cabo el trabajo:\n",
        "\n",
        "**Pregunta opcional:**<br>"
      ]
    },
    {
      "cell_type": "markdown",
      "source": [
        "### Bibliografía\n",
        "\n",
        "#### Bibliografía principal\n",
        "- Cormen, T. H., Leiserson, C. E., Rivest, R. L., & Stein, C. (2009). *Introduction to algorithms* (3rd ed.). MIT Press.  \n",
        "  > Referencia sobre análisis de complejidad factorial, combinatoria, backtracking y branch & bound.\n",
        "\n",
        "- Aho, A. V., Hopcroft, J. E., & Ullman, J. D. (1983). *Data structures and algorithms*. Addison-Wesley.  \n",
        "  > Fundamentos sobre estructuras de datos y árboles de búsqueda, útiles para backtracking y poda.\n",
        "\n",
        "- Knuth, D. E. (1997). *The art of computer programming, Vol. 1: Fundamental algorithms* (3rd ed.). Addison-Wesley.  \n",
        "  > Explicación de permutaciones, combinatoria y análisis de algoritmos recursivos.\n",
        "\n",
        "- Michalewicz, Z., & Fogel, D. B. (2004). *How to solve it: Modern heuristics* (2nd ed.). Springer.  \n",
        "  > Métodos heurísticos y técnicas de poda para optimización.\n",
        "\n",
        "- Eiben, A. E., & Smith, J. E. (2003). *Introduction to evolutionary computing*. Springer.  \n",
        "  > Contexto sobre algoritmos evolutivos y metaheurísticas, relacionados con la optimización.\n",
        "\n",
        "- Sedgewick, R., & Wayne, K. (2011). *Algorithms* (4th ed.). Addison-Wesley.  \n",
        "  > Referencia adicional para análisis de complejidad y poda de ramas en backtracking.\n",
        "\n",
        "- Brassard, G., & Bratley, P. (1997). *Fundamentos de algoritmia*.  \n",
        "  > Referencia estándar para el análisis de algoritmos, incluyendo el conteo de operaciones elementales y la identificación de funciones de crecimiento dominantes (polinómica, exponencial, etc.).\n",
        "\n",
        "- Lee, R. C. T., Tseng, S. S., Chang, R. C., & Tsai, Y. T. (2005). *Introducción al diseño y análisis de algoritmos*.  \n",
        "  > Explicación de los conceptos de complejidad de tiempo y espacio aplicados a algoritmos de fuerza bruta y recursivos.\n",
        "\n",
        "#### Documentación técnica de Python\n",
        "- Python Software Foundation. (2024). *Python documentation*. https://docs.python.org/3/  \n",
        "- Python Software Foundation. (2024). *itertools — Functions creating iterators for efficient looping*. En *Python documentation*. https://docs.python.org/3/library/itertools.html  \n",
        "- Python Software Foundation. (2024). *fractions — Rational numbers*. En *Python documentation*. https://docs.python.org/3/library/fractions.html  \n",
        "\n",
        "#### Material docente y complementario\n",
        "- Universidad Internacional de Valencia. *Manual de la asignatura Algoritmos de optimización*.  \n",
        "- Universidad Internacional de Valencia. *Manual de la asignatura Python para Inteligencia Artificial*.  \n",
        "- Ortiz Ordóñez, J. (s. f.). *Canal de YouTube John Ortiz Ordoñez*. https://www.youtube.com/c/JohnOrtizOrdo%C3%B1ez  \n",
        "- Mouredev. (s. f.). *Canal de YouTube Mouredev*. https://www.youtube.com/@mouredev  \n",
        "- ChioCode. (2022). *Memoización y cómo aplicarla*. YouTube. https://www.youtube.com/watch?v=e5zaZEfHsIs\n"
      ],
      "metadata": {
        "id": "aCoKpRwUrMyQ"
      }
    },
    {
      "cell_type": "markdown",
      "metadata": {
        "id": "kAkDPUyRtYyH"
      },
      "source": [
        "\n",
        "\n",
        "---\n",
        "\n",
        "\n",
        "###Describe brevemente las lineas de como crees que es posible avanzar en el estudio del problema. Ten en cuenta incluso posibles variaciones del problema y/o variaciones al alza del tamaño"
      ]
    },
    {
      "cell_type": "markdown",
      "metadata": {
        "id": "IE0uZmo-tZu-"
      },
      "source": [
        "**Pregunta opcional:**<br>\n",
        "\n",
        "Las formas de avanzar con este problema (en la búsqueda de mejores resultados de eficiencia y optimización) sería:\n",
        "\n",
        "- Poda todavía más agresiva.\n",
        "- Aplicar otros métodos heurísticos.\n",
        "- \"Memoización\".\n",
        "<br>\n",
        "\n",
        "Aunque hay que tener mucho cuidado con esto, ya que si la poda es demasiado agresiva puede dar lugar a descartar opciones que darían resultados interesantes o buenos, pero que se descartan demasiado pronto; pudiendo no llegar a todos los resultados enteros.\n",
        "<br>\n",
        "\n",
        "En caso de que el problema fuese de mayor tamaño, podría interesar no llegar a los resultados exactos pero sí a resultados aproximados si ello supusiese una rapidez en la ejecución. Todo depende de lo que prime más para cada problema y cada momento, y a lo que se le quiera (o necesita) dar prioridad."
      ]
    },
    {
      "cell_type": "markdown",
      "source": [
        "\n",
        "\n",
        "---\n",
        "\n",
        "\n",
        "\n",
        "---\n",
        "\n",
        "\n",
        "*Trabajo / Proyecto entregable*\n",
        "- *Universidad Internacional de Valencia*\n",
        "- *Algoritmos de optimización*\n",
        "- *Borja Allo Casal*"
      ],
      "metadata": {
        "id": "99SNheC0Lh8T"
      }
    },
    {
      "cell_type": "markdown",
      "source": [
        "\n",
        "\n",
        "---\n",
        "\n",
        "\n",
        "\n",
        "---\n",
        "\n"
      ],
      "metadata": {
        "id": "HDl1oSlmqBP7"
      }
    }
  ]
}