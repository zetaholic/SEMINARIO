{
  "nbformat": 4,
  "nbformat_minor": 0,
  "metadata": {
    "colab": {
      "provenance": []
    },
    "kernelspec": {
      "name": "python3",
      "display_name": "Python 3"
    }
  },
  "cells": [
    {
      "cell_type": "markdown",
      "metadata": {
        "id": "hVbXYX-RfPWh"
      },
      "source": [
        "# Algoritmos de optimización - Seminario<br>\n",
        "Nombre y Apellidos: Borja Allo Casal   <br>\n",
        "Url: https://github.com/zetaholic/SEMINARIO <br>\n",
        "(el enlace lleva al repositorio, donde únicamente estará este notebook)<br>\n",
        "\n",
        "Problema:\n",
        "\n",
        ">3. Combinar cifras y operaciones\n",
        "\n",
        "Descripción del problema:<br>\n",
        "El problema consiste en analizar el siguiente problema y diseñar un algoritmo que lo resuelva:<br>\n",
        "• Disponemos de las 9 cifras del 1 al 9 (excluimos el cero) y de los 4 signos básicos de las operaciones fundamentales: suma(+), resta(-), multiplicación(*) y división(/).<br>\n",
        "• Debemos combinarlos alternativamente sin repetir ninguno de ellos para obtener una\n",
        "cantidad dada. Un ejemplo sería para obtener el 4:<br>\n",
        "\n",
        "\"4 + 2 - 6 / 3 * 1 = 4\"\n",
        "\n",
        "....\n",
        "\n",
        "(*) La respuesta es obligatoria\n",
        "\n",
        "\n",
        "                                        "
      ]
    },
    {
      "cell_type": "markdown",
      "metadata": {
        "id": "3_-exlrTgLd-"
      },
      "source": [
        "###(*)¿Cuantas posibilidades hay sin tener en cuenta las restricciones?<br>\n",
        "\n",
        "\n",
        "###¿Cuantas posibilidades hay teniendo en cuenta todas las restricciones?\n",
        "\n",
        "\n"
      ]
    },
    {
      "cell_type": "markdown",
      "metadata": {
        "id": "WfCUqJyKhPcw"
      },
      "source": [
        "**Pregunta obligatoria:**<br>\n",
        "Tenemos que olvidarnos de las restricciones y, por tanto, podemos repetir cifras y operadores. Las posibilidades aumentan considerablemente a si utilizamos restricciones. <br>\n",
        "Para las cifras hay 9 posiciones: 9^9 = 387420489<br>\n",
        "Para los operadores hay 8 posiciones: 4^8 = 65536<br>\n",
        "EL nº total de expresiones sin restricciones es: 387420489 x 65536 = 25389989167104<br>\n",
        "<br>\n",
        "**Pregunta opcional:**<br>\n",
        "Al tener en cuenta las restricciones, y como los operadores no se pueden repetir, solamente vamos a poder utilizar 5 cifras en cada expresión (y ninguna de ellas repetida).<br>\n",
        "1. Cifras:<br>\n",
        "  *   Solamente 5 cifras de las 9: combinatoria de \"9 sobre 5\". Resultado = 126\n",
        "  *   Posición de las 5 cifras: 5! = 120\n",
        "\n",
        "2. Operadores: 4! = 24<br>\n",
        "\n",
        "Total de posibilidades: 126 x 120 x 24 = 362880"
      ]
    },
    {
      "cell_type": "code",
      "metadata": {
        "id": "iq6Fe32MgpDX",
        "colab": {
          "base_uri": "https://localhost:8080/"
        },
        "outputId": "0e2edfb3-c173-4ca5-fd35-fefa912c471b"
      },
      "source": [
        "# Respuesta a la pregunta obligatoria\n",
        "\n",
        "cifras_totales = 9 ** 9 # Sin restricciones de NO repetición de cifras\n",
        "operadores_totales = 4 ** 8 # Hay 8 huecos que llenar con operadores\n",
        "posibilidades = cifras_totales * operadores_totales\n",
        "\n",
        "print(f\"Total de expresiones posibles sin restricciones: {cifras_totales} x {operadores_totales} = {posibilidades}\")\n"
      ],
      "execution_count": 8,
      "outputs": [
        {
          "output_type": "stream",
          "name": "stdout",
          "text": [
            "Total de expresiones posibles sin restricciones: 387420489 x 65536 = 25389989167104\n"
          ]
        }
      ]
    },
    {
      "cell_type": "code",
      "source": [
        "# Respuesta a la pregunta opcional\n",
        "\n",
        "import math\n",
        "\n",
        "combinatoria_cifras = math.comb(9, 5) # Combinatoria \"9 sobre 5\"\n",
        "permutaciones_cifras = math.factorial(5)\n",
        "permutaciones_operadores = math.factorial(4)\n",
        "\n",
        "# Total de posibilidades\n",
        "total_posibilidades = combinatoria_cifras * permutaciones_cifras * permutaciones_operadores\n",
        "\n",
        "print(f\"Número total de expresiones posibles cumpliendo todas las restricciones: {total_posibilidades}\")\n"
      ],
      "metadata": {
        "id": "EANnGMJVco0M",
        "outputId": "47c5e556-10a9-4b5b-b1ee-caf75868f9c6",
        "colab": {
          "base_uri": "https://localhost:8080/"
        }
      },
      "execution_count": 9,
      "outputs": [
        {
          "output_type": "stream",
          "name": "stdout",
          "text": [
            "Número total de expresiones posibles cumpliendo todas las restricciones: 362880\n"
          ]
        }
      ]
    },
    {
      "cell_type": "markdown",
      "metadata": {
        "id": "dzynfVJahHoY"
      },
      "source": [
        "###Modelo para el espacio de soluciones<br>\n",
        "###(*) ¿Cual es la estructura de datos que mejor se adapta al problema? Argumentalo.(Es posible que hayas elegido una al principio y veas la necesidad de cambiar, arguentalo)\n"
      ]
    },
    {
      "cell_type": "markdown",
      "metadata": {
        "id": "xFIJrOwKi2Ti"
      },
      "source": [
        "En un primer momento estuve pensando en utilizar solamente listas para almacenar tanto las cifras como los operadores, debido a su versatilidad en cuanto a recorrerlas y modificarlas.<br>\n",
        "Pero debido a la naturaleza del problema, y aprovechando las menciones a los iteradores combinatorios del módulo \"intertool\"; tras buscar información sobre su uso, considero que esta segunda opción es la más correcta. Los motivos:\n",
        "* Las listas serían menos eficientes al tener que ir almacenando todas las combinaciones y permutaciones posibles.\n",
        "* Hacerlo con listas significaría construir varios bucles anidados y lógica adicional para evitar repeticiones.\n",
        "* Si utilizo iteradores combinatorios (como \"itertools.combinations( )\" o \"intertools.permutation( )\") puedo generar todas las combinaciones posibles de 5 cifras distintas entre las 9 disponibles, y generar todas las permutaciones posibles de esas cifras y de los 4 operadores.\n",
        "* Usar el módulo intertool me permite generarlas sin almacenar grandes volúmenes en memoria y ser más eficiente.\n",
        "\n",
        "Por tanto, la estructura de datos que mejor se adapta al problema es el uso de iteradores combinatorios (módulo intertool), junto con listas para construir y evaluar las expresiones."
      ]
    },
    {
      "cell_type": "code",
      "metadata": {
        "id": "38c-7-ejhJmA",
        "colab": {
          "base_uri": "https://localhost:8080/"
        },
        "outputId": "bde8efc1-49bd-400b-c672-2a280e095f24"
      },
      "source": [
        "import itertools\n",
        "\n",
        "\n",
        "digitos = [str(i) for i in range(1, 10)] # Cifras disponibles\n",
        "operadores = ['+', '-', '*', '/'] # Operadores disponibles\n",
        "\n",
        "total_expresiones = 0 # Añado contador de expresiones\n",
        "\n",
        "# Combinaciones de 5 cifras entre 9\n",
        "for cifras in itertools.combinations(digitos, 5):\n",
        "    # Permutaciones de esas 5 cifras\n",
        "    for perm_cifras in itertools.permutations(cifras):\n",
        "        # Permutaciones de los 4 operadores\n",
        "        for perm_ops in itertools.permutations(operadores):\n",
        "            # Construcción de la expresión final\n",
        "            expresion = \"\"\n",
        "            for i in range(4):\n",
        "                expresion += perm_cifras[i] + perm_ops[i]\n",
        "            expresion += perm_cifras[4]\n",
        "            total_expresiones += 1\n",
        "\n",
        "print(\"Número total de expresiones posibles:\", total_expresiones) # Que coincidirá con la respuesta a la pregunta opcional anterior\n"
      ],
      "execution_count": 10,
      "outputs": [
        {
          "output_type": "stream",
          "name": "stdout",
          "text": [
            "Número total de expresiones posibles: 362880\n"
          ]
        }
      ]
    },
    {
      "cell_type": "markdown",
      "metadata": {
        "id": "7Z9U2W7bi-XS"
      },
      "source": [
        "###Según el modelo para el espacio de soluciones<br>\n",
        "###(*)¿Cual es la función objetivo?\n",
        "\n",
        "###(*)¿Es un problema de maximización o minimización?"
      ]
    },
    {
      "cell_type": "markdown",
      "metadata": {
        "id": "hBalWLM7j1_d"
      },
      "source": [
        "**La función objetivo**<br>\n",
        "Queremos evaluar el valor numérico de cada expresión generada: todas las expresiones posibles, formadas por 5 cifras distintas (elegidas entre 1 y 9), y los 4 operadores básicos (sin repetir ninguno).<br>\n",
        "Con ello, queremos conseguir el conjunto de resultados numéricos enteros posibles.<br>\n",
        "Por tanto, la función objetivo será el valor entero que resulte de evaluar cada expresión:<br>\n",
        "\n",
        "![Funcoion_objetivo.png](data:image/png;base64,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) <br>\n",
        "\n",
        "Siendo:\n",
        "* n1, n2, n3, n4 y n5: cifras seleccionadas del 1 al 9 (sin repetir)\n",
        "* op1, op2, op3 y op4: operadores básicos (sin repetir)\n",
        "\n",
        "**¿Maximización o minimización?**\n",
        "\n",
        "El problema, como se incluye en el enunciado, busca tanto el valor máximo como el mínimo que se puede conseguir con las expresiones generadas. Creo que podríamos considerarlo de maximización si nos centramos en encontrar la expresión válidad que de el valor máximo posible y viceversa.<br>\n",
        "Otra cuestión, también planteada por el enunciado, es saber si se podrían conseguir todos los números enteros entre el máximo y el mínimo. Es poco probable, aunque podríamos averiguarlo ejecutanto un modelo del algoritmo completo."
      ]
    },
    {
      "cell_type": "code",
      "metadata": {
        "id": "pDA-rg3Gj5Lz",
        "colab": {
          "base_uri": "https://localhost:8080/"
        },
        "outputId": "266f1113-8414-4343-f41f-eaa21ae1f0a2"
      },
      "source": [
        "import itertools\n",
        "import random\n",
        "\n",
        "# Voy a generar un ejemplo con una muestra aleatoria\n",
        "digitos = [str(i) for i in range(1, 10)] # Todas las crifras del 1 al 9\n",
        "operadores = ['+', '-', '*', '/']\n",
        "\n",
        "resultados_enteros = set()\n",
        "muestras = 15000  # Para el ejemplo vamos a utilizar 15000 muestras. Pero lo dejo con opción de subir o bajar el número de muestras\n",
        "\n",
        "def evaluar(expr):\n",
        "    try:\n",
        "        resultado = eval(expr) # Uso eval(), pero aplicando el filtro siguiente\n",
        "        if resultado == int(resultado):  # Solo enteros\n",
        "            return int(resultado)\n",
        "    except ZeroDivisionError: # Divisiones entre 0. A priori no debería hacer falta. No hay posibilidades de divisiones entre 0; pero por si acaso hay algún error\n",
        "        return None\n",
        "    return None\n",
        "\n",
        "for _ in range(muestras): # Genero las entradas aleatorias\n",
        "    cifras = random.sample(digitos, 5)\n",
        "    ops = random.sample(operadores, 4)\n",
        "    expr = \"\"\n",
        "    for i in range(4): # Inicio bucle para ir construyendo la expresión generada en un string\n",
        "        expr += cifras[i] + ops[i]\n",
        "    expr += cifras[4]\n",
        "    resultado = evaluar(expr) # Uso la función creada (que es como una modificación del \"eval()\", pero incluye la \"criba\" de las divisiones entre 0)\n",
        "    if resultado is not None:\n",
        "        resultados_enteros.add(resultado) # Voy añadiendo los resultados enteros\n",
        "\n",
        "# Análisis de resultados\n",
        "minimo = min(resultados_enteros)\n",
        "maximo = max(resultados_enteros)\n",
        "faltantes = [i for i in range(minimo, maximo + 1) if i not in resultados_enteros] # Compruebo los faltantes entre el mín. y el máx.\n",
        "\n",
        "print(f\"Valores enteros encontrados: {len(resultados_enteros)}\")\n",
        "print(f\"Valor mínimo: {minimo}\")\n",
        "print(f\"Valor máximo: {maximo}\")\n",
        "print(f\"¿Todos los enteros entre mínimo y máximo están presentes?: {len(faltantes) == 0}\")\n",
        "if faltantes:\n",
        "    print(f\"Valores faltantes: {faltantes[:10]}{'...' if len(faltantes) > 10 else ''}\")\n"
      ],
      "execution_count": 11,
      "outputs": [
        {
          "output_type": "stream",
          "name": "stdout",
          "text": [
            "Valores enteros encontrados: 142\n",
            "Valor mínimo: -67\n",
            "Valor máximo: 77\n",
            "¿Todos los enteros entre mínimo y máximo están presentes?: False\n",
            "Valores faltantes: [-66, -54, -50]\n"
          ]
        }
      ]
    },
    {
      "cell_type": "markdown",
      "metadata": {
        "id": "rlnTYgY1j6I2"
      },
      "source": [
        "###Diseña un algoritmo para resolver el problema por fuerza bruta"
      ]
    },
    {
      "cell_type": "markdown",
      "metadata": {
        "id": "70rDgxYXkC8r"
      },
      "source": [
        "**Pregunta opcional:**<br>\n",
        "\n",
        "Diseñar un algoritmo por fuerza bruta supone explorar y evaluar **todas** las expresiones posibles (dentro de las restricciones) y almacenar aquellas que sean válidas (que cumplan el requisito de ser un número entero).<br>\n",
        "Sería como llevar el ejemplo con muestras limitadas que hice antes, pero evaluando todas las opciones existentes.<br>\n",
        "Pasos que he intentado seguir:\n",
        "\n",
        "1.   Generar todas las combinaciones posibles de 5 cifras (escogiendo números entre el 1 y el 9).\n",
        "2.   Para cada combinación de las cifras: generar todas las permutaciones u ordenaciones posibles de ellos (orden de aparición en la expresión).\n",
        "3.   Para cada ordenación de cifras, generar todas las permutaciones u ordenaciones posibles de los 4 operadores disponibles.\n",
        "4.   Construir la expresión final: con la estructura \"cifra 1, operador 1, cifra 2, operador 2,..., operador 4, cifra 5\".\n",
        "5.   Evaluar la expresión: sin divisiones entre 0 y que sean enteros.\n",
        "6.   Guardar los resultados que cumplan.\n",
        "\n",
        "Por fuerza bruta se considerarán todas las expresiones, pero la ejecución del código es muy exigente."
      ]
    },
    {
      "cell_type": "code",
      "metadata": {
        "id": "CJb5sQ0qkENy",
        "colab": {
          "base_uri": "https://localhost:8080/"
        },
        "outputId": "c10cb040-58c8-49a8-9355-c8c0d14e2bbf"
      },
      "source": [
        "# Diseño por FUERZA BRUTA\n",
        "\n",
        "import itertools\n",
        "\n",
        "digitos = [str(i) for i in range(1, 10)]\n",
        "operadores = ['+', '-', '*', '/']\n",
        "\n",
        "expresiones_validas = [] # Voy a guardar todas las expresiones generadas que den un número entero\n",
        "r_enteros = [] # Voy a guardar todos los enteros generados\n",
        "\n",
        "def evaluar(expr): # Igual que hice en el ejemplo con muestra aleatoria\n",
        "    try:\n",
        "        resultado = eval(expr)\n",
        "        if resultado == int(resultado):\n",
        "            return int(resultado)\n",
        "    except ZeroDivisionError:\n",
        "        return None\n",
        "    return None\n",
        "\n",
        "# Todas las combinaciones posibles\n",
        "for cifras in itertools.combinations(digitos, 5): # Combinatoria \"9 sobre 5\"\n",
        "    for perm_cifras in itertools.permutations(cifras): # Permutaciones de las cifras anteriores\n",
        "        for perm_ops in itertools.permutations(operadores): # Permutaciones de los operadores\n",
        "            expr = \"\" # Donde almacenaré la expresión dentro del bucle\n",
        "            for i in range(4):\n",
        "                expr += perm_cifras[i] + perm_ops[i]\n",
        "            expr += perm_cifras[4]\n",
        "            resultado = evaluar(expr)\n",
        "            if resultado is not None:\n",
        "                expresiones_validas.append((expr, resultado)) # Mantengo expresión y resultado asociados\n",
        "                r_enteros.append(resultado) # Me vale para calcular después el máximo y el mínimo\n",
        "\n",
        "\n",
        "print(f\"Total de expresiones válidas: {len(expresiones_validas)}\") # Muestra todas las expresiones que den números enteros que se hayan generado\n",
        "print(f\"Valor mínimo: {min(r_enteros)}\")\n",
        "print(f\"Valor máximo: {max(r_enteros)}\")\n",
        "print(\"Ejemplos:\")\n",
        "for expr, res in expresiones_validas[9:20]: # Para enseñar algunos de los resultados válidos obtenidos, escojo una muestra entre la pos. 9 y la 19\n",
        "    print(f\"{expr} = {res}\")"
      ],
      "execution_count": 12,
      "outputs": [
        {
          "output_type": "stream",
          "name": "stdout",
          "text": [
            "Total de expresiones válidas: 90000\n",
            "Valor mínimo: -69\n",
            "Valor máximo: 77\n",
            "Ejemplos:\n",
            "1-3*4/2+5 = 0\n",
            "1*3+4/2-5 = 0\n",
            "1*3-4/2+5 = 6\n",
            "1+3-4*5/2 = -6\n",
            "1-3+4*5/2 = 8\n",
            "1+3-5/2*4 = -6\n",
            "1-3+5/2*4 = 8\n",
            "1+3-5*4/2 = -6\n",
            "1+3*5-4/2 = 14\n",
            "1-3+5*4/2 = 8\n",
            "1-3*5+4/2 = -12\n"
          ]
        }
      ]
    },
    {
      "cell_type": "markdown",
      "metadata": {
        "id": "tgrnsC2nkFa8"
      },
      "source": [
        "###Calcula la complejidad del algoritmo por fuerza bruta"
      ]
    },
    {
      "cell_type": "markdown",
      "metadata": {
        "id": "9eUd3xwckP68"
      },
      "source": [
        "**Pregunta opcional:**<br>\n",
        "\n",
        "A priori diría que se trata de una complejidad constante, ya que los parámetros de entrada son los mismos. Si tenemos en cuenta que los operadores básicos no varían y son siempre 4, solamente podrán elegirse 5 cifras para la expresión.<br>\n",
        "Lo que sí puede cambiar, entonces, es de dónde seleccionamos esas cifras (En el problema, de 1 a 9).<br>\n",
        "\n",
        "Por lo tanto, ese sería el valor \"n\" que realmente podría cambiar, siendo n = 9 en el problema.<br>\n",
        "\n",
        "Complejidad:<br>\n",
        "<br>\n",
        "\n",
        "![Complejidad_con_n.png](data:image/png;base64,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)\n",
        "\n",
        "<br>\n",
        "\n",
        "¿Sería, en parte, una complejidad factorial?\n",
        "\n",
        "No sabría decirlo. De todas formas, el valor de la complejidad es:<br>\n",
        "* Combinatoria de 9 sobre 5: 126\n",
        "* 5! = 120\n",
        "* 4! = 24\n",
        "\n",
        "Complejidad teórica = 126 x 120 x 24 = 362880 <br>\n",
        "<br>\n",
        "\n",
        "Expresamos su complejidad así:<br>\n",
        "<br>\n",
        "\n",
        "![Expresion_complejidad.png](data:image/png;base64,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)\n",
        "\n"
      ]
    },
    {
      "cell_type": "code",
      "metadata": {
        "id": "rvZWwL-ckRST",
        "colab": {
          "base_uri": "https://localhost:8080/"
        },
        "outputId": "0dda853b-8fd5-442b-9751-400a7265a267"
      },
      "source": [
        "# Calcular la complejidad es casi lo mismo que hicimos en la primera pregunta opcional\n",
        "import math\n",
        "\n",
        "combinatoria_cifras = math.comb(9, 5) # Combinatoria de \"9 sobre 5\"\n",
        "permutaciones_cifras = math.factorial(5) # 5!\n",
        "permutaciones_operadores = math.factorial(4) # 4!\n",
        "\n",
        "# Complejidad:\n",
        "complejidad = combinatoria_cifras * permutaciones_cifras * permutaciones_operadores\n",
        "print(\"Complejidad del algoritmo por fuerza bruta:\")\n",
        "print(f\"  Combinaciones de cifras: {combinatoria_cifras}\")\n",
        "print(f\"  Permutaciones de cifras: {permutaciones_cifras}\")\n",
        "print(f\"  Permutaciones de operadores: {permutaciones_operadores}\")\n",
        "print(f\"  Complejidad del algoritmo: {complejidad}\")\n"
      ],
      "execution_count": 13,
      "outputs": [
        {
          "output_type": "stream",
          "name": "stdout",
          "text": [
            "Complejidad del algoritmo por fuerza bruta:\n",
            "  Combinaciones de cifras: 126\n",
            "  Permutaciones de cifras: 120\n",
            "  Permutaciones de operadores: 24\n",
            "  Complejidad del algoritmo: 362880\n"
          ]
        }
      ]
    },
    {
      "cell_type": "markdown",
      "metadata": {
        "id": "txbrmLmskReM"
      },
      "source": [
        "###(*)Diseña un algoritmo que mejore la complejidad del algoritmo por fuerza bruta. Argumenta porque crees que mejora el algoritmo por fuerza bruta"
      ]
    },
    {
      "cell_type": "markdown",
      "metadata": {
        "id": "hLrVwt5QkZPD"
      },
      "source": [
        "Si queremos mejorar la eficiencia del algoritmo, pero respetando las restricciones, podemos buscar una solución optimizada de la siguiente forma:\n",
        "\n",
        "1. Filtrar divisiones no exactas: antes de evaluar la expresión, filtrar si esta ya dará un resultado NO entero. Si da decimal se descarta la expresión.\n",
        "\n",
        "2. Filtrar divisiones innecesarias: si a < b, se evita a / b porque no dará un número entero.\n",
        "\n",
        "3. Filtrar resultados duplicados: con el conjunto (set) lmacenamos solamente los resultados únicos (sin repetir).\n",
        "\n",
        "4. se utiliza `eval()` para evaluar las expresiones después de aplicar los filtros anteriores (reduce el número de evaluaciones).\n",
        "\n",
        "Aunque su complejidad (teórica) es la misma, a la hora de ejecutar el código se evalúan muchas menos expresiones. Mejoras:\n",
        "* Menor tiempo de ejecución.\n",
        "* Mejor uso de la memoria.\n",
        "* Los resultados siguen siendo válidos."
      ]
    },
    {
      "cell_type": "code",
      "metadata": {
        "id": "m1eyM21Vkabg",
        "colab": {
          "base_uri": "https://localhost:8080/"
        },
        "outputId": "4f5ab8b4-8cd0-4bfe-8d8a-fc360a7b6269"
      },
      "source": [
        "import itertools\n",
        "\n",
        "digitos = [str(i) for i in range(1, 10)]\n",
        "operadores = ['+', '-', '*', '/']\n",
        "\n",
        "resultados_validos = set() # Garantizamos almacenar resultados \"únicos\" (no repetidos)\n",
        "expresiones_validas = [] # Almacenamos las expresiones que cumplan requisitos\n",
        "\n",
        "def evaluar(expr): # Misma función ya creada antes (la creo de nuevo para contar todo como códigos independientes)\n",
        "    try:\n",
        "        resultado = eval(expr)\n",
        "        if resultado == int(resultado):\n",
        "            return int(resultado)\n",
        "    except ZeroDivisionError:\n",
        "        return None\n",
        "    return None\n",
        "\n",
        "for cifras in itertools.combinations(digitos, 5):\n",
        "    for perm_cifras in itertools.permutations(cifras):\n",
        "        for perm_ops in itertools.permutations(operadores):\n",
        "            expr = \"\"\n",
        "            aplicar_filtro = False # Inicializamos el filtro en False y a continuación comprobamos si lo pasa o no\n",
        "            for i in range(4):\n",
        "                a = int(perm_cifras[i])\n",
        "                b = int(perm_cifras[i + 1])\n",
        "                op = perm_ops[i]\n",
        "\n",
        "                # Evitar a / b si a < b o división NO exacta\n",
        "                if op == '/' and (a < b or a % b != 0):\n",
        "                    aplicar_filtro = True\n",
        "                    break\n",
        "\n",
        "                expr += perm_cifras[i] + op\n",
        "            if aplicar_filtro:\n",
        "                continue\n",
        "            expr += perm_cifras[4]\n",
        "\n",
        "            resultado = evaluar(expr) # Evaluamos resultados DESPUÉS de aplicar los filtros (el algoritmo \"trabaja\" menos)\n",
        "            if resultado is not None and resultado not in resultados_validos:\n",
        "                resultados_validos.add(resultado)\n",
        "                expresiones_validas.append((expr, resultado))\n",
        "\n",
        "faltantes = [i for i in range(min(resultados_validos), max(resultados_validos) + 1) if i not in resultados_validos] # Compruebo si hay faltantes entre el mín. y el máx.\n",
        "\n",
        "# Muestro los resultados. Sé que habrá resultados válidos, pero creo un \"if-else\" para evitar el error si no hubiese ninguno\n",
        "if resultados_validos:\n",
        "    print(f\"Total de resultados enteros únicos: {len(resultados_validos)}\")\n",
        "    print(f\"Los resultados enteros son: {resultados_validos}\")\n",
        "    print(f\"¿Todos los enteros entre mínimo y máximo están presentes?: {len(faltantes) == 0}\")\n",
        "    print(f\"Valor mínimo: {min(resultados_validos)}\")\n",
        "    print(f\"Valor máximo: {max(resultados_validos)}\")\n",
        "    print(\"Ejemplos:\")\n",
        "    for expr, res in expresiones_validas[:10]:\n",
        "        print(f\"{expr} = {res}\")\n",
        "else:\n",
        "    print(\"No se encontraron resultados válidos.\")\n"
      ],
      "execution_count": 14,
      "outputs": [
        {
          "output_type": "stream",
          "name": "stdout",
          "text": [
            "Total de resultados enteros únicos: 147\n",
            "Los resultados enteros son: {0, 1, 2, 3, 4, 5, 6, 7, 8, 9, 10, 11, 12, 13, 14, 15, 16, 17, 18, 19, 20, 21, 22, 23, 24, 25, 26, 27, 28, 29, 30, 31, 32, 33, 34, 35, 36, 37, 38, 39, 40, 41, 42, 43, 44, 45, 46, 47, 48, 49, 50, 51, 52, 53, 54, 55, 56, 57, 58, 59, 60, 61, 62, 63, 64, 65, 66, 67, 68, 69, 70, 71, 72, 73, 74, 75, 76, 77, -69, -68, -67, -66, -65, -64, -63, -62, -61, -60, -59, -58, -57, -56, -55, -54, -53, -52, -51, -50, -49, -48, -47, -46, -45, -44, -43, -42, -41, -40, -39, -38, -37, -36, -35, -34, -33, -32, -31, -30, -29, -28, -27, -26, -25, -24, -23, -22, -21, -20, -19, -18, -17, -16, -15, -14, -13, -12, -11, -10, -9, -8, -7, -6, -5, -4, -3, -2, -1}\n",
            "¿Todos los enteros entre mínimo y máximo están presentes?: True\n",
            "Valor mínimo: -69\n",
            "Valor máximo: 77\n",
            "Ejemplos:\n",
            "1+3-4/2*5 = -6\n",
            "1+3*4/2-5 = 2\n",
            "1-3+4/2*5 = 8\n",
            "1-3*4/2+5 = 0\n",
            "1*3-4/2+5 = 6\n",
            "1+3*5-4/2 = 14\n",
            "1-3*5+4/2 = -12\n",
            "1*4/2-3+5 = 4\n",
            "2/1+3-4*5 = -15\n",
            "2/1+3*4-5 = 9\n"
          ]
        }
      ]
    },
    {
      "cell_type": "markdown",
      "source": [
        "A pesar de que, en un primer momento, creía que NO sería posible que se pudiesen obtener TODOS los números entre el **máximo posible (77)** y el **mínimo posible (-69)**; ***sí que se consiguen***. <br>\n",
        "\n",
        "Por otro lado, comprobamos que el *algoritmo optimizado* solamente nos da **147** resultados válidos **únicos**. Enfrentando esto contra el *algoritmo por fuerza bruta* (que nos contó un total de **90000 expresiones válidas**, aunque **no únicas**), podemos ver que la diferencia es más que evidente.\n",
        "\n"
      ],
      "metadata": {
        "id": "27kD1ln53aUA"
      }
    },
    {
      "cell_type": "markdown",
      "metadata": {
        "id": "eGDB4K6uk1iN"
      },
      "source": [
        "###(*)Calcula la complejidad del algoritmo"
      ]
    },
    {
      "cell_type": "markdown",
      "metadata": {
        "id": "NhpTh_BPk1ms"
      },
      "source": [
        "Aunque con la optimización del algoritmo aplicamos filtros para evaluar solamente las expresiones necesarias, evitar redundancias, etc.; si mantenemos las restricciones, la complejidad teórica del nuevo algoritmo sigue siendo la misma que la del algoritmo por fuerza bruta.<br>\n",
        "Sigue explorando el mismo número de combinaciones posibles, cifras y operadores; aunque no llegue a evaluarlas todas gracias a los filtros.<br>\n",
        "\n",
        "Pero es cierto que, a la hora de ejecutarlo, el algoritmo optimizado reduce el número de operaciones que se ejecutan y el uso de recursos, aunque el orden de complejidad se mantenga.<br>\n",
        "<br>\n",
        "![Expresion_complejidad.png](data:image/png;base64,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)"
      ]
    },
    {
      "cell_type": "code",
      "metadata": {
        "id": "nREzhkStlCq8",
        "colab": {
          "base_uri": "https://localhost:8080/"
        },
        "outputId": "2dd890c4-a21c-46cc-f8a0-22a662ce7fee"
      },
      "source": [
        "# Mismas restricciones y mismos parámetros de entrada: misma complejidad teórica\n",
        "import math\n",
        "\n",
        "combinatoria_cifras = math.comb(9, 5) # Combinatoria de \"9 sobre 5\"\n",
        "permutaciones_cifras = math.factorial(5) # 5!\n",
        "permutaciones_operadores = math.factorial(4) # 4!\n",
        "\n",
        "# Complejidad teórica:\n",
        "complejidad = combinatoria_cifras * permutaciones_cifras * permutaciones_operadores\n",
        "print(\"Complejidad del algoritmo por fuerza bruta:\")\n",
        "print(f\"  Combinaciones de cifras: {combinatoria_cifras}\")\n",
        "print(f\"  Permutaciones de cifras: {permutaciones_cifras}\")\n",
        "print(f\"  Permutaciones de operadores: {permutaciones_operadores}\")\n",
        "print(f\"  Complejidad del algoritmo: {complejidad}\")"
      ],
      "execution_count": 15,
      "outputs": [
        {
          "output_type": "stream",
          "name": "stdout",
          "text": [
            "Complejidad del algoritmo por fuerza bruta:\n",
            "  Combinaciones de cifras: 126\n",
            "  Permutaciones de cifras: 120\n",
            "  Permutaciones de operadores: 24\n",
            "  Complejidad del algoritmo: 362880\n"
          ]
        }
      ]
    },
    {
      "cell_type": "markdown",
      "metadata": {
        "id": "3M6QjTsSkmYe"
      },
      "source": [
        "###Según el problema (y tenga sentido), diseña un juego de datos de entrada aleatorios"
      ]
    },
    {
      "cell_type": "markdown",
      "metadata": {
        "id": "Jc3_OlyNkvjZ"
      },
      "source": [
        "No respondida"
      ]
    },
    {
      "cell_type": "markdown",
      "metadata": {
        "id": "zy5ZROmjlGo1"
      },
      "source": [
        "###Aplica el algoritmo al juego de datos generado"
      ]
    },
    {
      "cell_type": "markdown",
      "metadata": {
        "id": "_Cmj-PVylMsa"
      },
      "source": [
        "No respondida"
      ]
    },
    {
      "cell_type": "markdown",
      "metadata": {
        "id": "eTFWUJQrtGcv"
      },
      "source": [
        "###Enumera las referencias que has utilizado(si ha sido necesario) para llevar a cabo el trabajo"
      ]
    },
    {
      "cell_type": "markdown",
      "metadata": {
        "id": "YKQ_mRBttWsP"
      },
      "source": [
        "1. Manual de la asignatura Algoritmos de optimización.\n",
        "2. Manual de la asignatura Pyhton para Inteligencia Artificial.\n",
        "3. Canal de youtube: https://www.youtube.com/c/JohnOrtizOrdo%C3%B1ez\n",
        "4. Librería de python: https://docs.python.org/3/library/itertools.html\n",
        "5. Canal de youtube: https://www.youtube.com/@mouredev"
      ]
    },
    {
      "cell_type": "markdown",
      "metadata": {
        "id": "kAkDPUyRtYyH"
      },
      "source": [
        "###Describe brevemente las lineas de como crees que es posible avanzar en el estudio del problema. Ten en cuenta incluso posibles variaciones del problema y/o variaciones al alza del tamaño"
      ]
    },
    {
      "cell_type": "markdown",
      "metadata": {
        "id": "IE0uZmo-tZu-"
      },
      "source": [
        "No respondida"
      ]
    }
  ]
}